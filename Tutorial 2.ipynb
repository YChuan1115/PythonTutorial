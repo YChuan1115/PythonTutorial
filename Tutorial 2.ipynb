{
 "cells": [
  {
   "cell_type": "markdown",
   "metadata": {},
   "source": [
    "# Python Tutorial 3\n",
    "## Flappy Turtle\n",
    "### Tzer-jen Wei"
   ]
  },
  {
   "cell_type": "code",
   "execution_count": null,
   "metadata": {
    "collapsed": true
   },
   "outputs": [],
   "source": [
    "from turtle import *"
   ]
  },
  {
   "cell_type": "code",
   "execution_count": null,
   "metadata": {
    "collapsed": true
   },
   "outputs": [],
   "source": [
    "screensize(216, 500)\n",
    "setup(288, 512)"
   ]
  },
  {
   "cell_type": "code",
   "execution_count": null,
   "metadata": {
    "collapsed": false
   },
   "outputs": [],
   "source": [
    "import glob\n",
    "glob.glob(\"*.gif\")"
   ]
  },
  {
   "cell_type": "code",
   "execution_count": null,
   "metadata": {
    "collapsed": true
   },
   "outputs": [],
   "source": [
    "for f in glob.glob(\"*.gif\"):\n",
    "    addshape(f)"
   ]
  },
  {
   "cell_type": "code",
   "execution_count": null,
   "metadata": {
    "collapsed": false
   },
   "outputs": [],
   "source": [
    "shape(\"bird2.gif\")\n",
    "up()\n",
    "speed(0)"
   ]
  },
  {
   "cell_type": "markdown",
   "metadata": {},
   "source": [
    "Add a background"
   ]
  },
  {
   "cell_type": "code",
   "execution_count": null,
   "metadata": {
    "collapsed": true
   },
   "outputs": [],
   "source": [
    "bgpic(\"bg1.gif\")"
   ]
  },
  {
   "cell_type": "markdown",
   "metadata": {},
   "source": [
    "Try main loop"
   ]
  },
  {
   "cell_type": "code",
   "execution_count": null,
   "metadata": {
    "collapsed": false
   },
   "outputs": [],
   "source": [
    "mainloop()"
   ]
  },
  {
   "cell_type": "markdown",
   "metadata": {},
   "source": [
    "Add a exit key"
   ]
  },
  {
   "cell_type": "code",
   "execution_count": null,
   "metadata": {
    "collapsed": true
   },
   "outputs": [],
   "source": [
    "onkey(bye, 'q')\n",
    "listen()"
   ]
  },
  {
   "cell_type": "code",
   "execution_count": null,
   "metadata": {
    "collapsed": true
   },
   "outputs": [],
   "source": [
    "mainloop()"
   ]
  },
  {
   "cell_type": "markdown",
   "metadata": {},
   "source": [
    "### put everything together"
   ]
  },
  {
   "cell_type": "code",
   "execution_count": null,
   "metadata": {
    "collapsed": true
   },
   "outputs": [],
   "source": [
    "from turtle import *\n",
    "import glob\n",
    "def turtle_setup():\n",
    "    screensize(216, 500)\n",
    "    setup(288, 512)\n",
    "    for f in glob.glob(\"*.gif\"):\n",
    "        addshape(f)\n",
    "    shape(\"bird2.gif\")\n",
    "    up()\n",
    "    speed(0)\n",
    "    bgpic(\"bg1.gif\")\n",
    "    onkey(bye, 'q')\n",
    "    listen()"
   ]
  },
  {
   "cell_type": "markdown",
   "metadata": {},
   "source": [
    "## Update Bird Fly Animation"
   ]
  },
  {
   "cell_type": "code",
   "execution_count": null,
   "metadata": {
    "collapsed": false
   },
   "outputs": [],
   "source": [
    "from time import time       \n",
    "turtle_setup()\n",
    "start_time = time()\n",
    "def update():\n",
    "    t = time() - start_time\n",
    "    shape(\"bird%d.gif\" % abs(int(t * 4) % 4 - 1))\n",
    "    ontimer(update, 10)\n",
    "update()\n",
    "mainloop()"
   ]
  },
  {
   "cell_type": "markdown",
   "metadata": {},
   "source": [
    "## Put into a class"
   ]
  },
  {
   "cell_type": "code",
   "execution_count": null,
   "metadata": {
    "collapsed": false
   },
   "outputs": [],
   "source": [
    "from time import time\n",
    "class Game:\n",
    "    def __init__(self):\n",
    "        turtle_setup()\n",
    "        self.start_time = time()\n",
    "        self.update()        \n",
    "        mainloop()\n",
    "    def update(self):\n",
    "        t = time() - self.start_time\n",
    "        shape(\"bird%d.gif\" % abs(int(t * 4) % 4 - 1))\n",
    "        ontimer(self.update, 10)"
   ]
  },
  {
   "cell_type": "code",
   "execution_count": null,
   "metadata": {
    "collapsed": true
   },
   "outputs": [],
   "source": [
    "game = Game()"
   ]
  },
  {
   "cell_type": "markdown",
   "metadata": {},
   "source": [
    "### Let the bird fly"
   ]
  },
  {
   "cell_type": "code",
   "execution_count": null,
   "metadata": {
    "collapsed": true
   },
   "outputs": [],
   "source": [
    "from math import sin\n",
    "def update(self):\n",
    "    t = time() - self.start_time\n",
    "    goto(0, 50*sin(t))\n",
    "    shape(\"bird%d.gif\" % abs(int(t * 4) % 4 - 1))\n",
    "    ontimer(self.update, 10)\n",
    "Game.update = update"
   ]
  },
  {
   "cell_type": "code",
   "execution_count": null,
   "metadata": {
    "collapsed": true
   },
   "outputs": [],
   "source": [
    "game = Game()"
   ]
  },
  {
   "cell_type": "code",
   "execution_count": null,
   "metadata": {
    "collapsed": false
   },
   "outputs": [],
   "source": [
    "turtle_setup()\n",
    "shape('ground.gif')"
   ]
  },
  {
   "cell_type": "code",
   "execution_count": null,
   "metadata": {
    "collapsed": true
   },
   "outputs": [],
   "source": [
    "def GIFTurtle(fname):\n",
    "    t = Turtle(fname + \".gif\")\n",
    "    t.speed(0)\n",
    "    t.up()\n",
    "    return t"
   ]
  },
  {
   "cell_type": "code",
   "execution_count": null,
   "metadata": {
    "collapsed": false
   },
   "outputs": [],
   "source": [
    "from time import time\n",
    "from math import sin\n",
    "bg_width = 286\n",
    "class Game:\n",
    "    def __init__(self):\n",
    "            turtle_setup()\n",
    "            self.grounds = [GIFTurtle(\"ground\") for i in range(3)]\n",
    "            self.start_time = time()\n",
    "            self.update()             \n",
    "            mainloop()\n",
    "    def update(self):\n",
    "        t = time() - self.start_time\n",
    "        goto(0, 50*sin(t))\n",
    "        shape(\"bird%d.gif\" % abs(int(t * 4) % 4 - 1))\n",
    "        x = int(t * 100)\n",
    "        bg_base = -(x % bg_width)\n",
    "        for i in range(3):\n",
    "            self.grounds[i].goto(bg_base + bg_width * (i - 1), -200)\n",
    "        ontimer(self.update, 10)"
   ]
  },
  {
   "cell_type": "code",
   "execution_count": null,
   "metadata": {
    "collapsed": false
   },
   "outputs": [],
   "source": [
    "Game()"
   ]
  },
  {
   "cell_type": "code",
   "execution_count": null,
   "metadata": {
    "collapsed": false
   },
   "outputs": [],
   "source": [
    "%run flappybird.py"
   ]
  },
  {
   "cell_type": "code",
   "execution_count": null,
   "metadata": {
    "collapsed": true
   },
   "outputs": [],
   "source": [
    "%load flappybird.py"
   ]
  }
 ],
 "metadata": {
  "kernelspec": {
   "display_name": "Python 3",
   "language": "python",
   "name": "python3"
  },
  "language_info": {
   "codemirror_mode": {
    "name": "ipython",
    "version": 3
   },
   "file_extension": ".py",
   "mimetype": "text/x-python",
   "name": "python",
   "nbconvert_exporter": "python",
   "pygments_lexer": "ipython3",
   "version": "3.4.1"
  }
 },
 "nbformat": 4,
 "nbformat_minor": 0
}
